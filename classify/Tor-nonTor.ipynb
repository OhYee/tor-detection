{
 "metadata": {
  "language_info": {
   "codemirror_mode": {
    "name": "ipython",
    "version": 3
   },
   "file_extension": ".py",
   "mimetype": "text/x-python",
   "name": "python",
   "nbconvert_exporter": "python",
   "pygments_lexer": "ipython3",
   "version": "3.8.6-final"
  },
  "orig_nbformat": 2,
  "kernelspec": {
   "name": "python3",
   "display_name": "Python 3"
  }
 },
 "nbformat": 4,
 "nbformat_minor": 2,
 "cells": [
  {
   "source": [
    "# 识别 Tor 流量和非 Tor 流量\n",
    "\n",
    "数据集地址 https://www.unb.ca/cic/datasets/tor.html"
   ],
   "cell_type": "markdown",
   "metadata": {}
  },
  {
   "source": [
    "## 数据读取\n",
    "\n",
    "读入流量数据"
   ],
   "cell_type": "markdown",
   "metadata": {}
  },
  {
   "cell_type": "code",
   "execution_count": null,
   "metadata": {},
   "outputs": [],
   "source": [
    "import pandas as pd\n",
    "import numpy as np\n",
    "\n",
    "\n",
    "data = pd.read_csv(\"./merged_5s.csv\")\n",
    "\n",
    "data.head(10)"
   ]
  },
  {
   "source": [
    "## 特征处理及数据转换\n",
    "\n",
    "计算并只保留需要的特征"
   ],
   "cell_type": "markdown",
   "metadata": {}
  },
  {
   "cell_type": "code",
   "execution_count": null,
   "metadata": {
    "tags": []
   },
   "outputs": [],
   "source": [
    "data = data[:-8]\n",
    "data['Flow Bytes/s'] = data['Flow Bytes/s'].apply(float)\n",
    "data['Flow Packets/s'] = data['Flow Packets/s'].apply(float)\n",
    "\n",
    "temp = data.columns.to_list()\n",
    "temp.remove(\"label\")\n",
    "temp.remove(\"Source IP\")\n",
    "temp.remove(\"Source Port\")\n",
    "temp.remove(\"Destination IP\")\n",
    "temp.remove(\"Destination Port\")\n",
    "temp.remove(\"Flow Duration\")\n",
    "temp.remove(\"Protocol\")\n",
    "\n",
    "\n",
    "\n",
    "x = data[temp]\n",
    "y = data[\"label\"].apply(lambda x: 0 if x==\"nonTOR\" else 1)\n",
    "\n",
    "print(x)\n",
    "print(y)"
   ]
  },
  {
   "source": [
    "## 数据集分割\n",
    "\n",
    "将 pandas 的 DataFrame 转换为 sklearn 的 dataset"
   ],
   "cell_type": "markdown",
   "metadata": {}
  },
  {
   "cell_type": "code",
   "execution_count": null,
   "metadata": {},
   "outputs": [],
   "source": [
    "import sklearn\n",
    "from sklearn.model_selection import train_test_split\n",
    "\n",
    "\n",
    "x_train, x_test, y_train, y_test = train_test_split(x,y, test_size=0.3)\n",
    "\n",
    "print(x_train)\n",
    "print(y_train)\n",
    "print(x_test)\n",
    "print(y_test)"
   ]
  },
  {
   "cell_type": "code",
   "execution_count": null,
   "metadata": {},
   "outputs": [],
   "source": [
    "x_train['Flow Bytes/s'] = x_train['Flow Bytes/s'].apply(lambda x: float(x))\n",
    "x_train['Flow Packets/s'] = x_train['Flow Packets/s'].apply(lambda x: float(x))\n",
    "\n",
    "x_train[x_train['Flow Bytes/s'].isnull()]\n"
   ]
  },
  {
   "source": [
    "## 训练模型并验证"
   ],
   "cell_type": "markdown",
   "metadata": {}
  },
  {
   "cell_type": "code",
   "execution_count": null,
   "metadata": {},
   "outputs": [],
   "source": [
    "x_train['Flow Bytes/s']"
   ]
  },
  {
   "cell_type": "code",
   "execution_count": null,
   "metadata": {},
   "outputs": [],
   "source": [
    "y_train"
   ]
  },
  {
   "cell_type": "code",
   "execution_count": null,
   "metadata": {},
   "outputs": [],
   "source": [
    "import xgboost as xgb\n",
    "params = {\n",
    "    'objective': 'binary:logistic',\n",
    "    'eval_metric': 'auc',\n",
    "    'learning_rate': 0.02,\n",
    "    'max_depth': 8,\n",
    "    'subsample': 0.9,\n",
    "    'reg_lambda': 10,\n",
    "    # 'tree_method': 'gpu_hist',\n",
    "    'seed':2021,\n",
    "#     'single_precision_histogram': False\n",
    "    #'deterministic_histogram': True\n",
    "}\n",
    "\n",
    "# params = {'tree_method': 'gpu_hist', 'max_depth': 8, 'alpha': 0,'num_leaves': 80,\"seed\":1024,\n",
    "#               'gamma': 0, 'subsample': 1, 'scale_pos_weight': 1, 'learning_rate': 0.05, \n",
    "#           'objective':'binary:logistic', 'eval_metric': ['error','auc']}\n",
    "# model = xgb.Booster(model_file='xgb_75115.txt')\n",
    "train_dmatrix = xgb.DMatrix(x_train, label=y_train)\n",
    "valid_dmatrix = xgb.DMatrix(x_test, label=y_test)\n",
    "# train_dmatrix = xgb.DMatrix(X_train, label=y_train)\n",
    "# valid_dmatrix = xgb.DMatrix(X_test, label=y_test)\n",
    "early_stopping = 30\n",
    "verbose_eval = 100\n",
    "\n",
    "\n",
    "model = xgb.train(\n",
    "    params, \n",
    "    train_dmatrix,\n",
    "    evals=[(train_dmatrix, 'train'), (valid_dmatrix, 'valid')],\n",
    "    verbose_eval=verbose_eval,\n",
    "    num_boost_round=200,\n",
    "    early_stopping_rounds=early_stopping,\n",
    ")"
   ]
  },
  {
   "cell_type": "code",
   "execution_count": null,
   "metadata": {},
   "outputs": [],
   "source": [
    "import matplotlib.pyplot as plt\n",
    "# %%matplotlib\n",
    "import seaborn as sns\n",
    "fig,ax = plt.subplots(figsize=(40,40))\n",
    "# plt.figure(figsize=(3000, 3000))\n",
    "xgb.plot_importance(model,\n",
    "                    height=0.5,\n",
    "                    ax=ax)\n",
    "plt.show()"
   ]
  },
  {
   "cell_type": "code",
   "execution_count": null,
   "metadata": {},
   "outputs": [],
   "source": [
    "temp"
   ]
  },
  {
   "cell_type": "code",
   "execution_count": null,
   "metadata": {},
   "outputs": [],
   "source": []
  }
 ]
}